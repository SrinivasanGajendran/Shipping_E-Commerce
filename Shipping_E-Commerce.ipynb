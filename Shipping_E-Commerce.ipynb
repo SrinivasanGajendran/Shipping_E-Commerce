{
 "cells": [
  {
   "cell_type": "code",
   "execution_count": 30,
   "id": "0ddbe233",
   "metadata": {
    "scrolled": true
   },
   "outputs": [],
   "source": [
    "import warnings\n",
    "warnings.filterwarnings(\"ignore\")\n",
    "import pandas as pd\n",
    "import seaborn as sns\n",
    "import numpy as np\n",
    "import matplotlib.pyplot as plt\n",
    "from sklearn.preprocessing import LabelEncoder,StandardScaler\n",
    "from sklearn.model_selection import train_test_split\n",
    "from sklearn.tree import DecisionTreeClassifier\n",
    "from sklearn.ensemble import RandomForestClassifier\n",
    "from sklearn.metrics import r2_score,mean_absolute_error"
   ]
  },
  {
   "cell_type": "code",
   "execution_count": 2,
   "id": "22369212",
   "metadata": {
    "scrolled": true
   },
   "outputs": [
    {
     "data": {
      "text/html": [
       "<div>\n",
       "<style scoped>\n",
       "    .dataframe tbody tr th:only-of-type {\n",
       "        vertical-align: middle;\n",
       "    }\n",
       "\n",
       "    .dataframe tbody tr th {\n",
       "        vertical-align: top;\n",
       "    }\n",
       "\n",
       "    .dataframe thead th {\n",
       "        text-align: right;\n",
       "    }\n",
       "</style>\n",
       "<table border=\"1\" class=\"dataframe\">\n",
       "  <thead>\n",
       "    <tr style=\"text-align: right;\">\n",
       "      <th></th>\n",
       "      <th>Customer_care_calls</th>\n",
       "      <th>Customer_rating</th>\n",
       "      <th>Prior_purchases</th>\n",
       "      <th>Discount_offered</th>\n",
       "      <th>Weight_in_gms</th>\n",
       "      <th>Warehouse_block</th>\n",
       "      <th>Mode_of_Shipment</th>\n",
       "      <th>Product_importance</th>\n",
       "      <th>Gender</th>\n",
       "      <th>Class</th>\n",
       "    </tr>\n",
       "  </thead>\n",
       "  <tbody>\n",
       "    <tr>\n",
       "      <th>0</th>\n",
       "      <td>5</td>\n",
       "      <td>4</td>\n",
       "      <td>2</td>\n",
       "      <td>10</td>\n",
       "      <td>5395</td>\n",
       "      <td>A</td>\n",
       "      <td>Ship</td>\n",
       "      <td>medium</td>\n",
       "      <td>M</td>\n",
       "      <td>1</td>\n",
       "    </tr>\n",
       "    <tr>\n",
       "      <th>1</th>\n",
       "      <td>4</td>\n",
       "      <td>3</td>\n",
       "      <td>2</td>\n",
       "      <td>6</td>\n",
       "      <td>5867</td>\n",
       "      <td>F</td>\n",
       "      <td>Ship</td>\n",
       "      <td>medium</td>\n",
       "      <td>F</td>\n",
       "      <td>0</td>\n",
       "    </tr>\n",
       "    <tr>\n",
       "      <th>2</th>\n",
       "      <td>3</td>\n",
       "      <td>4</td>\n",
       "      <td>2</td>\n",
       "      <td>2</td>\n",
       "      <td>5957</td>\n",
       "      <td>D</td>\n",
       "      <td>Ship</td>\n",
       "      <td>medium</td>\n",
       "      <td>M</td>\n",
       "      <td>0</td>\n",
       "    </tr>\n",
       "    <tr>\n",
       "      <th>3</th>\n",
       "      <td>3</td>\n",
       "      <td>1</td>\n",
       "      <td>2</td>\n",
       "      <td>27</td>\n",
       "      <td>2551</td>\n",
       "      <td>D</td>\n",
       "      <td>Ship</td>\n",
       "      <td>medium</td>\n",
       "      <td>M</td>\n",
       "      <td>1</td>\n",
       "    </tr>\n",
       "    <tr>\n",
       "      <th>4</th>\n",
       "      <td>7</td>\n",
       "      <td>5</td>\n",
       "      <td>4</td>\n",
       "      <td>9</td>\n",
       "      <td>1329</td>\n",
       "      <td>B</td>\n",
       "      <td>Ship</td>\n",
       "      <td>medium</td>\n",
       "      <td>M</td>\n",
       "      <td>1</td>\n",
       "    </tr>\n",
       "  </tbody>\n",
       "</table>\n",
       "</div>"
      ],
      "text/plain": [
       "   Customer_care_calls  Customer_rating  Prior_purchases  Discount_offered  \\\n",
       "0                    5                4                2                10   \n",
       "1                    4                3                2                 6   \n",
       "2                    3                4                2                 2   \n",
       "3                    3                1                2                27   \n",
       "4                    7                5                4                 9   \n",
       "\n",
       "   Weight_in_gms Warehouse_block Mode_of_Shipment Product_importance Gender  \\\n",
       "0           5395               A             Ship             medium      M   \n",
       "1           5867               F             Ship             medium      F   \n",
       "2           5957               D             Ship             medium      M   \n",
       "3           2551               D             Ship             medium      M   \n",
       "4           1329               B             Ship             medium      M   \n",
       "\n",
       "   Class  \n",
       "0      1  \n",
       "1      0  \n",
       "2      0  \n",
       "3      1  \n",
       "4      1  "
      ]
     },
     "execution_count": 2,
     "metadata": {},
     "output_type": "execute_result"
    }
   ],
   "source": [
    "df = pd.read_csv('E:/GUVI/Project/shipping_ecommerce.csv')\n",
    "df.head()"
   ]
  },
  {
   "cell_type": "code",
   "execution_count": 3,
   "id": "b1b1efe3",
   "metadata": {
    "scrolled": true
   },
   "outputs": [
    {
     "data": {
      "text/plain": [
       "(10998, 10)"
      ]
     },
     "execution_count": 3,
     "metadata": {},
     "output_type": "execute_result"
    }
   ],
   "source": [
    "df.shape"
   ]
  },
  {
   "cell_type": "code",
   "execution_count": 4,
   "id": "a2d69c8a",
   "metadata": {
    "scrolled": true
   },
   "outputs": [
    {
     "name": "stdout",
     "output_type": "stream",
     "text": [
      "<class 'pandas.core.frame.DataFrame'>\n",
      "RangeIndex: 10998 entries, 0 to 10997\n",
      "Data columns (total 10 columns):\n",
      " #   Column               Non-Null Count  Dtype \n",
      "---  ------               --------------  ----- \n",
      " 0   Customer_care_calls  10998 non-null  int64 \n",
      " 1   Customer_rating      10998 non-null  int64 \n",
      " 2   Prior_purchases      10998 non-null  int64 \n",
      " 3   Discount_offered     10998 non-null  int64 \n",
      " 4   Weight_in_gms        10998 non-null  int64 \n",
      " 5   Warehouse_block      10998 non-null  object\n",
      " 6   Mode_of_Shipment     10998 non-null  object\n",
      " 7   Product_importance   10998 non-null  object\n",
      " 8   Gender               10998 non-null  object\n",
      " 9   Class                10998 non-null  int64 \n",
      "dtypes: int64(6), object(4)\n",
      "memory usage: 859.3+ KB\n"
     ]
    }
   ],
   "source": [
    "df.info()"
   ]
  },
  {
   "cell_type": "markdown",
   "id": "51c57cd0",
   "metadata": {},
   "source": [
    "# Checking for Null Values"
   ]
  },
  {
   "cell_type": "code",
   "execution_count": 5,
   "id": "556b6efc",
   "metadata": {
    "scrolled": true
   },
   "outputs": [
    {
     "data": {
      "text/plain": [
       "Customer_care_calls    0\n",
       "Customer_rating        0\n",
       "Prior_purchases        0\n",
       "Discount_offered       0\n",
       "Weight_in_gms          0\n",
       "Warehouse_block        0\n",
       "Mode_of_Shipment       0\n",
       "Product_importance     0\n",
       "Gender                 0\n",
       "Class                  0\n",
       "dtype: int64"
      ]
     },
     "execution_count": 5,
     "metadata": {},
     "output_type": "execute_result"
    }
   ],
   "source": [
    "df.isnull().sum()"
   ]
  },
  {
   "cell_type": "code",
   "execution_count": 6,
   "id": "8bfb753a",
   "metadata": {
    "scrolled": true
   },
   "outputs": [
    {
     "data": {
      "text/plain": [
       "Customer_care_calls    0\n",
       "Customer_rating        0\n",
       "Prior_purchases        0\n",
       "Discount_offered       0\n",
       "Weight_in_gms          0\n",
       "Warehouse_block        0\n",
       "Mode_of_Shipment       0\n",
       "Product_importance     0\n",
       "Gender                 0\n",
       "Class                  0\n",
       "dtype: int64"
      ]
     },
     "execution_count": 6,
     "metadata": {},
     "output_type": "execute_result"
    }
   ],
   "source": [
    "df.isna().sum()"
   ]
  },
  {
   "cell_type": "markdown",
   "id": "1dd79f51",
   "metadata": {},
   "source": [
    "# Checking for unique values to encode categorical data"
   ]
  },
  {
   "cell_type": "code",
   "execution_count": 7,
   "id": "7f6bce1d",
   "metadata": {
    "scrolled": true
   },
   "outputs": [
    {
     "name": "stdout",
     "output_type": "stream",
     "text": [
      "Customer_care_calls 6\n",
      "Customer_rating 5\n",
      "Prior_purchases 8\n",
      "Discount_offered 65\n",
      "Weight_in_gms 4034\n",
      "Warehouse_block 5\n",
      "Mode_of_Shipment 3\n",
      "Product_importance 3\n",
      "Gender 2\n",
      "Class 2\n"
     ]
    }
   ],
   "source": [
    "for i in df.columns:\n",
    "    print(i,df[i].nunique())"
   ]
  },
  {
   "cell_type": "code",
   "execution_count": 8,
   "id": "ea033a9b",
   "metadata": {
    "scrolled": true
   },
   "outputs": [],
   "source": [
    "df1 = df.copy()"
   ]
  },
  {
   "cell_type": "code",
   "execution_count": 9,
   "id": "ca103f13",
   "metadata": {
    "scrolled": true
   },
   "outputs": [
    {
     "data": {
      "text/html": [
       "<div>\n",
       "<style scoped>\n",
       "    .dataframe tbody tr th:only-of-type {\n",
       "        vertical-align: middle;\n",
       "    }\n",
       "\n",
       "    .dataframe tbody tr th {\n",
       "        vertical-align: top;\n",
       "    }\n",
       "\n",
       "    .dataframe thead th {\n",
       "        text-align: right;\n",
       "    }\n",
       "</style>\n",
       "<table border=\"1\" class=\"dataframe\">\n",
       "  <thead>\n",
       "    <tr style=\"text-align: right;\">\n",
       "      <th></th>\n",
       "      <th>Customer_care_calls</th>\n",
       "      <th>Customer_rating</th>\n",
       "      <th>Prior_purchases</th>\n",
       "      <th>Discount_offered</th>\n",
       "      <th>Weight_in_gms</th>\n",
       "      <th>Warehouse_block</th>\n",
       "      <th>Mode_of_Shipment</th>\n",
       "      <th>Product_importance</th>\n",
       "      <th>Gender</th>\n",
       "      <th>Class</th>\n",
       "    </tr>\n",
       "  </thead>\n",
       "  <tbody>\n",
       "    <tr>\n",
       "      <th>0</th>\n",
       "      <td>5</td>\n",
       "      <td>4</td>\n",
       "      <td>2</td>\n",
       "      <td>10</td>\n",
       "      <td>5395</td>\n",
       "      <td>A</td>\n",
       "      <td>Ship</td>\n",
       "      <td>medium</td>\n",
       "      <td>M</td>\n",
       "      <td>1</td>\n",
       "    </tr>\n",
       "    <tr>\n",
       "      <th>1</th>\n",
       "      <td>4</td>\n",
       "      <td>3</td>\n",
       "      <td>2</td>\n",
       "      <td>6</td>\n",
       "      <td>5867</td>\n",
       "      <td>F</td>\n",
       "      <td>Ship</td>\n",
       "      <td>medium</td>\n",
       "      <td>F</td>\n",
       "      <td>0</td>\n",
       "    </tr>\n",
       "    <tr>\n",
       "      <th>2</th>\n",
       "      <td>3</td>\n",
       "      <td>4</td>\n",
       "      <td>2</td>\n",
       "      <td>2</td>\n",
       "      <td>5957</td>\n",
       "      <td>D</td>\n",
       "      <td>Ship</td>\n",
       "      <td>medium</td>\n",
       "      <td>M</td>\n",
       "      <td>0</td>\n",
       "    </tr>\n",
       "    <tr>\n",
       "      <th>3</th>\n",
       "      <td>3</td>\n",
       "      <td>1</td>\n",
       "      <td>2</td>\n",
       "      <td>27</td>\n",
       "      <td>2551</td>\n",
       "      <td>D</td>\n",
       "      <td>Ship</td>\n",
       "      <td>medium</td>\n",
       "      <td>M</td>\n",
       "      <td>1</td>\n",
       "    </tr>\n",
       "    <tr>\n",
       "      <th>4</th>\n",
       "      <td>7</td>\n",
       "      <td>5</td>\n",
       "      <td>4</td>\n",
       "      <td>9</td>\n",
       "      <td>1329</td>\n",
       "      <td>B</td>\n",
       "      <td>Ship</td>\n",
       "      <td>medium</td>\n",
       "      <td>M</td>\n",
       "      <td>1</td>\n",
       "    </tr>\n",
       "  </tbody>\n",
       "</table>\n",
       "</div>"
      ],
      "text/plain": [
       "   Customer_care_calls  Customer_rating  Prior_purchases  Discount_offered  \\\n",
       "0                    5                4                2                10   \n",
       "1                    4                3                2                 6   \n",
       "2                    3                4                2                 2   \n",
       "3                    3                1                2                27   \n",
       "4                    7                5                4                 9   \n",
       "\n",
       "   Weight_in_gms Warehouse_block Mode_of_Shipment Product_importance Gender  \\\n",
       "0           5395               A             Ship             medium      M   \n",
       "1           5867               F             Ship             medium      F   \n",
       "2           5957               D             Ship             medium      M   \n",
       "3           2551               D             Ship             medium      M   \n",
       "4           1329               B             Ship             medium      M   \n",
       "\n",
       "   Class  \n",
       "0      1  \n",
       "1      0  \n",
       "2      0  \n",
       "3      1  \n",
       "4      1  "
      ]
     },
     "execution_count": 9,
     "metadata": {},
     "output_type": "execute_result"
    }
   ],
   "source": [
    "df1.head()"
   ]
  },
  {
   "cell_type": "markdown",
   "id": "a301c5ac",
   "metadata": {},
   "source": [
    "# Encoding the categorical data using LabelEncoder"
   ]
  },
  {
   "cell_type": "code",
   "execution_count": 10,
   "id": "bb1e2d4d",
   "metadata": {
    "scrolled": true
   },
   "outputs": [],
   "source": [
    "le = LabelEncoder()\n",
    "df1['Warehouse_block'] = le.fit_transform(df1['Warehouse_block'])\n",
    "df1['Mode_of_Shipment'] =le.fit_transform(df1['Mode_of_Shipment'])\n",
    "df1['Product_importance'] = le.fit_transform(df1['Product_importance'])\n",
    "df1['Gender'] = le.fit_transform(df1['Gender'])"
   ]
  },
  {
   "cell_type": "code",
   "execution_count": 11,
   "id": "b3bff7f1",
   "metadata": {
    "scrolled": true
   },
   "outputs": [
    {
     "data": {
      "text/html": [
       "<div>\n",
       "<style scoped>\n",
       "    .dataframe tbody tr th:only-of-type {\n",
       "        vertical-align: middle;\n",
       "    }\n",
       "\n",
       "    .dataframe tbody tr th {\n",
       "        vertical-align: top;\n",
       "    }\n",
       "\n",
       "    .dataframe thead th {\n",
       "        text-align: right;\n",
       "    }\n",
       "</style>\n",
       "<table border=\"1\" class=\"dataframe\">\n",
       "  <thead>\n",
       "    <tr style=\"text-align: right;\">\n",
       "      <th></th>\n",
       "      <th>Customer_care_calls</th>\n",
       "      <th>Customer_rating</th>\n",
       "      <th>Prior_purchases</th>\n",
       "      <th>Discount_offered</th>\n",
       "      <th>Weight_in_gms</th>\n",
       "      <th>Warehouse_block</th>\n",
       "      <th>Mode_of_Shipment</th>\n",
       "      <th>Product_importance</th>\n",
       "      <th>Gender</th>\n",
       "      <th>Class</th>\n",
       "    </tr>\n",
       "  </thead>\n",
       "  <tbody>\n",
       "    <tr>\n",
       "      <th>0</th>\n",
       "      <td>5</td>\n",
       "      <td>4</td>\n",
       "      <td>2</td>\n",
       "      <td>10</td>\n",
       "      <td>5395</td>\n",
       "      <td>0</td>\n",
       "      <td>2</td>\n",
       "      <td>2</td>\n",
       "      <td>1</td>\n",
       "      <td>1</td>\n",
       "    </tr>\n",
       "    <tr>\n",
       "      <th>1</th>\n",
       "      <td>4</td>\n",
       "      <td>3</td>\n",
       "      <td>2</td>\n",
       "      <td>6</td>\n",
       "      <td>5867</td>\n",
       "      <td>4</td>\n",
       "      <td>2</td>\n",
       "      <td>2</td>\n",
       "      <td>0</td>\n",
       "      <td>0</td>\n",
       "    </tr>\n",
       "    <tr>\n",
       "      <th>2</th>\n",
       "      <td>3</td>\n",
       "      <td>4</td>\n",
       "      <td>2</td>\n",
       "      <td>2</td>\n",
       "      <td>5957</td>\n",
       "      <td>3</td>\n",
       "      <td>2</td>\n",
       "      <td>2</td>\n",
       "      <td>1</td>\n",
       "      <td>0</td>\n",
       "    </tr>\n",
       "    <tr>\n",
       "      <th>3</th>\n",
       "      <td>3</td>\n",
       "      <td>1</td>\n",
       "      <td>2</td>\n",
       "      <td>27</td>\n",
       "      <td>2551</td>\n",
       "      <td>3</td>\n",
       "      <td>2</td>\n",
       "      <td>2</td>\n",
       "      <td>1</td>\n",
       "      <td>1</td>\n",
       "    </tr>\n",
       "    <tr>\n",
       "      <th>4</th>\n",
       "      <td>7</td>\n",
       "      <td>5</td>\n",
       "      <td>4</td>\n",
       "      <td>9</td>\n",
       "      <td>1329</td>\n",
       "      <td>1</td>\n",
       "      <td>2</td>\n",
       "      <td>2</td>\n",
       "      <td>1</td>\n",
       "      <td>1</td>\n",
       "    </tr>\n",
       "  </tbody>\n",
       "</table>\n",
       "</div>"
      ],
      "text/plain": [
       "   Customer_care_calls  Customer_rating  Prior_purchases  Discount_offered  \\\n",
       "0                    5                4                2                10   \n",
       "1                    4                3                2                 6   \n",
       "2                    3                4                2                 2   \n",
       "3                    3                1                2                27   \n",
       "4                    7                5                4                 9   \n",
       "\n",
       "   Weight_in_gms  Warehouse_block  Mode_of_Shipment  Product_importance  \\\n",
       "0           5395                0                 2                   2   \n",
       "1           5867                4                 2                   2   \n",
       "2           5957                3                 2                   2   \n",
       "3           2551                3                 2                   2   \n",
       "4           1329                1                 2                   2   \n",
       "\n",
       "   Gender  Class  \n",
       "0       1      1  \n",
       "1       0      0  \n",
       "2       1      0  \n",
       "3       1      1  \n",
       "4       1      1  "
      ]
     },
     "execution_count": 11,
     "metadata": {},
     "output_type": "execute_result"
    }
   ],
   "source": [
    "df1.head()"
   ]
  },
  {
   "cell_type": "markdown",
   "id": "08ed65c0",
   "metadata": {},
   "source": [
    "# Creating list of dtype 'int64' to check the distribution."
   ]
  },
  {
   "cell_type": "code",
   "execution_count": 12,
   "id": "6dcfa044",
   "metadata": {},
   "outputs": [],
   "source": [
    "num_col = [x for x in df1.columns if df1[x].dtype == 'int64']"
   ]
  },
  {
   "cell_type": "code",
   "execution_count": 13,
   "id": "74b1fc17",
   "metadata": {
    "scrolled": true
   },
   "outputs": [
    {
     "name": "stdout",
     "output_type": "stream",
     "text": [
      "Customer_care_calls 0.39177325169075056\n",
      "Customer_rating 0.004521408219225412\n",
      "Prior_purchases 1.681914754497086\n",
      "Discount_offered 1.7987871854055941\n",
      "Weight_in_gms -0.24958549524039783\n",
      "Class -0.39448713850496814\n"
     ]
    }
   ],
   "source": [
    "for i in num_col:\n",
    "    print(i,df1[i].skew())"
   ]
  },
  {
   "cell_type": "markdown",
   "id": "9eefda66",
   "metadata": {},
   "source": [
    "if skew value close to zero or equal to zero it is normally distributed if it is greater or lesser than 1 then it is positive or negatively skewed."
   ]
  },
  {
   "cell_type": "code",
   "execution_count": 14,
   "id": "e214f6c5",
   "metadata": {},
   "outputs": [],
   "source": [
    "#usiing log transormation to correct the skewness\n",
    "df1['Prior_purchases'] = np.log(df1['Prior_purchases'])\n",
    "df1['Discount_offered'] = np.log(df1['Discount_offered'])"
   ]
  },
  {
   "cell_type": "code",
   "execution_count": 15,
   "id": "94d96e8e",
   "metadata": {},
   "outputs": [
    {
     "name": "stdout",
     "output_type": "stream",
     "text": [
      "Customer_care_calls 0.39177325169075056\n",
      "Customer_rating 0.004521408219225412\n",
      "Prior_purchases 0.46284968814319644\n",
      "Discount_offered 0.21823367846217892\n",
      "Weight_in_gms -0.24958549524039783\n",
      "Class -0.39448713850496814\n"
     ]
    }
   ],
   "source": [
    "for i in num_col:\n",
    "    print(i,df1[i].skew())"
   ]
  },
  {
   "cell_type": "markdown",
   "id": "bcbbd46e",
   "metadata": {},
   "source": [
    "# Assigning X,y with appropriate variables"
   ]
  },
  {
   "cell_type": "code",
   "execution_count": 17,
   "id": "efd3a556",
   "metadata": {},
   "outputs": [],
   "source": [
    "X = df1.iloc[:,0:8]\n",
    "y = df1.iloc[:,9:]"
   ]
  },
  {
   "cell_type": "code",
   "execution_count": 19,
   "id": "0da8fc78",
   "metadata": {},
   "outputs": [
    {
     "data": {
      "text/html": [
       "<div>\n",
       "<style scoped>\n",
       "    .dataframe tbody tr th:only-of-type {\n",
       "        vertical-align: middle;\n",
       "    }\n",
       "\n",
       "    .dataframe tbody tr th {\n",
       "        vertical-align: top;\n",
       "    }\n",
       "\n",
       "    .dataframe thead th {\n",
       "        text-align: right;\n",
       "    }\n",
       "</style>\n",
       "<table border=\"1\" class=\"dataframe\">\n",
       "  <thead>\n",
       "    <tr style=\"text-align: right;\">\n",
       "      <th></th>\n",
       "      <th>Class</th>\n",
       "    </tr>\n",
       "  </thead>\n",
       "  <tbody>\n",
       "    <tr>\n",
       "      <th>0</th>\n",
       "      <td>1</td>\n",
       "    </tr>\n",
       "    <tr>\n",
       "      <th>1</th>\n",
       "      <td>0</td>\n",
       "    </tr>\n",
       "    <tr>\n",
       "      <th>2</th>\n",
       "      <td>0</td>\n",
       "    </tr>\n",
       "    <tr>\n",
       "      <th>3</th>\n",
       "      <td>1</td>\n",
       "    </tr>\n",
       "    <tr>\n",
       "      <th>4</th>\n",
       "      <td>1</td>\n",
       "    </tr>\n",
       "    <tr>\n",
       "      <th>...</th>\n",
       "      <td>...</td>\n",
       "    </tr>\n",
       "    <tr>\n",
       "      <th>10993</th>\n",
       "      <td>1</td>\n",
       "    </tr>\n",
       "    <tr>\n",
       "      <th>10994</th>\n",
       "      <td>1</td>\n",
       "    </tr>\n",
       "    <tr>\n",
       "      <th>10995</th>\n",
       "      <td>1</td>\n",
       "    </tr>\n",
       "    <tr>\n",
       "      <th>10996</th>\n",
       "      <td>1</td>\n",
       "    </tr>\n",
       "    <tr>\n",
       "      <th>10997</th>\n",
       "      <td>1</td>\n",
       "    </tr>\n",
       "  </tbody>\n",
       "</table>\n",
       "<p>10998 rows × 1 columns</p>\n",
       "</div>"
      ],
      "text/plain": [
       "       Class\n",
       "0          1\n",
       "1          0\n",
       "2          0\n",
       "3          1\n",
       "4          1\n",
       "...      ...\n",
       "10993      1\n",
       "10994      1\n",
       "10995      1\n",
       "10996      1\n",
       "10997      1\n",
       "\n",
       "[10998 rows x 1 columns]"
      ]
     },
     "execution_count": 19,
     "metadata": {},
     "output_type": "execute_result"
    }
   ],
   "source": [
    "y"
   ]
  },
  {
   "cell_type": "markdown",
   "id": "fc3cd73b",
   "metadata": {},
   "source": [
    "# Using StandardScaler to scale the values with mean of '0' and standard deviation of '1'. "
   ]
  },
  {
   "cell_type": "code",
   "execution_count": 20,
   "id": "c2adb805",
   "metadata": {},
   "outputs": [],
   "source": [
    "sc = StandardScaler()\n",
    "X_scaled = sc.fit_transform(X)"
   ]
  },
  {
   "cell_type": "code",
   "execution_count": 21,
   "id": "d42c75b9",
   "metadata": {},
   "outputs": [
    {
     "data": {
      "text/plain": [
       "array([[ 0.82828724,  0.71418247, -1.32319831, ..., -1.56559075,\n",
       "         0.6383826 ,  1.03565174],\n",
       "       [-0.04779499,  0.00675395, -1.32319831, ...,  1.11796539,\n",
       "         0.6383826 ,  1.03565174],\n",
       "       [-0.92387723,  0.71418247, -1.32319831, ...,  0.44707635,\n",
       "         0.6383826 ,  1.03565174],\n",
       "       ...,\n",
       "       [-0.92387723, -0.70067456,  2.91478614, ...,  1.11796539,\n",
       "         0.6383826 ,  1.03565174],\n",
       "       [-0.92387723, -1.40810307, -0.25552443, ...,  1.11796539,\n",
       "        -2.00404564,  1.03565174],\n",
       "       [-0.04779499,  0.00675395, -0.25552443, ..., -0.89470172,\n",
       "         0.6383826 ,  1.03565174]])"
      ]
     },
     "execution_count": 21,
     "metadata": {},
     "output_type": "execute_result"
    }
   ],
   "source": [
    "X_scaled"
   ]
  },
  {
   "cell_type": "markdown",
   "id": "468b2baf",
   "metadata": {},
   "source": [
    "# Using train_test_split to split the dataset"
   ]
  },
  {
   "cell_type": "code",
   "execution_count": 23,
   "id": "ac8ee91d",
   "metadata": {},
   "outputs": [],
   "source": [
    "X_train, X_test, Y_train, Y_test = train_test_split(X_scaled, y, test_size=0.30, random_state=42)"
   ]
  },
  {
   "cell_type": "code",
   "execution_count": 24,
   "id": "f22255d9",
   "metadata": {},
   "outputs": [
    {
     "data": {
      "text/plain": [
       "((7698, 8), (3300, 1))"
      ]
     },
     "execution_count": 24,
     "metadata": {},
     "output_type": "execute_result"
    }
   ],
   "source": [
    "X_train.shape, Y_test.shape"
   ]
  },
  {
   "cell_type": "markdown",
   "id": "df06e1b0",
   "metadata": {},
   "source": [
    "# Using DecisionTreeClassifier for prediction of Target variable"
   ]
  },
  {
   "cell_type": "code",
   "execution_count": 32,
   "id": "65295774",
   "metadata": {},
   "outputs": [
    {
     "name": "stdout",
     "output_type": "stream",
     "text": [
      "mae 0.00012990387113535984\n",
      "r2 0.9994599902057459\n"
     ]
    }
   ],
   "source": [
    "dtc = DecisionTreeClassifier()\n",
    "dtc.fit(X_train,Y_train)\n",
    "predict = dtc.predict(X_train)\n",
    "print('mae',mean_absolute_error(Y_train,predict))\n",
    "print('r2',r2_score(Y_train,predict))"
   ]
  },
  {
   "cell_type": "code",
   "execution_count": 35,
   "id": "ee93bba1",
   "metadata": {},
   "outputs": [],
   "source": [
    "Y_train['Predict'] = predict"
   ]
  },
  {
   "cell_type": "code",
   "execution_count": 36,
   "id": "169f3435",
   "metadata": {},
   "outputs": [
    {
     "data": {
      "text/html": [
       "<div>\n",
       "<style scoped>\n",
       "    .dataframe tbody tr th:only-of-type {\n",
       "        vertical-align: middle;\n",
       "    }\n",
       "\n",
       "    .dataframe tbody tr th {\n",
       "        vertical-align: top;\n",
       "    }\n",
       "\n",
       "    .dataframe thead th {\n",
       "        text-align: right;\n",
       "    }\n",
       "</style>\n",
       "<table border=\"1\" class=\"dataframe\">\n",
       "  <thead>\n",
       "    <tr style=\"text-align: right;\">\n",
       "      <th></th>\n",
       "      <th>Class</th>\n",
       "      <th>Predict</th>\n",
       "    </tr>\n",
       "  </thead>\n",
       "  <tbody>\n",
       "    <tr>\n",
       "      <th>9956</th>\n",
       "      <td>1</td>\n",
       "      <td>1</td>\n",
       "    </tr>\n",
       "    <tr>\n",
       "      <th>1507</th>\n",
       "      <td>1</td>\n",
       "      <td>1</td>\n",
       "    </tr>\n",
       "    <tr>\n",
       "      <th>6382</th>\n",
       "      <td>1</td>\n",
       "      <td>1</td>\n",
       "    </tr>\n",
       "    <tr>\n",
       "      <th>1559</th>\n",
       "      <td>1</td>\n",
       "      <td>1</td>\n",
       "    </tr>\n",
       "    <tr>\n",
       "      <th>5703</th>\n",
       "      <td>1</td>\n",
       "      <td>1</td>\n",
       "    </tr>\n",
       "    <tr>\n",
       "      <th>6075</th>\n",
       "      <td>1</td>\n",
       "      <td>1</td>\n",
       "    </tr>\n",
       "    <tr>\n",
       "      <th>3692</th>\n",
       "      <td>0</td>\n",
       "      <td>0</td>\n",
       "    </tr>\n",
       "    <tr>\n",
       "      <th>8990</th>\n",
       "      <td>1</td>\n",
       "      <td>1</td>\n",
       "    </tr>\n",
       "    <tr>\n",
       "      <th>4466</th>\n",
       "      <td>1</td>\n",
       "      <td>1</td>\n",
       "    </tr>\n",
       "    <tr>\n",
       "      <th>1836</th>\n",
       "      <td>0</td>\n",
       "      <td>0</td>\n",
       "    </tr>\n",
       "    <tr>\n",
       "      <th>10511</th>\n",
       "      <td>1</td>\n",
       "      <td>1</td>\n",
       "    </tr>\n",
       "    <tr>\n",
       "      <th>3781</th>\n",
       "      <td>1</td>\n",
       "      <td>1</td>\n",
       "    </tr>\n",
       "    <tr>\n",
       "      <th>981</th>\n",
       "      <td>0</td>\n",
       "      <td>0</td>\n",
       "    </tr>\n",
       "    <tr>\n",
       "      <th>9224</th>\n",
       "      <td>0</td>\n",
       "      <td>0</td>\n",
       "    </tr>\n",
       "    <tr>\n",
       "      <th>1354</th>\n",
       "      <td>0</td>\n",
       "      <td>0</td>\n",
       "    </tr>\n",
       "    <tr>\n",
       "      <th>2870</th>\n",
       "      <td>1</td>\n",
       "      <td>1</td>\n",
       "    </tr>\n",
       "    <tr>\n",
       "      <th>45</th>\n",
       "      <td>1</td>\n",
       "      <td>1</td>\n",
       "    </tr>\n",
       "    <tr>\n",
       "      <th>2542</th>\n",
       "      <td>0</td>\n",
       "      <td>0</td>\n",
       "    </tr>\n",
       "    <tr>\n",
       "      <th>104</th>\n",
       "      <td>1</td>\n",
       "      <td>1</td>\n",
       "    </tr>\n",
       "    <tr>\n",
       "      <th>748</th>\n",
       "      <td>0</td>\n",
       "      <td>0</td>\n",
       "    </tr>\n",
       "  </tbody>\n",
       "</table>\n",
       "</div>"
      ],
      "text/plain": [
       "       Class  Predict\n",
       "9956       1        1\n",
       "1507       1        1\n",
       "6382       1        1\n",
       "1559       1        1\n",
       "5703       1        1\n",
       "6075       1        1\n",
       "3692       0        0\n",
       "8990       1        1\n",
       "4466       1        1\n",
       "1836       0        0\n",
       "10511      1        1\n",
       "3781       1        1\n",
       "981        0        0\n",
       "9224       0        0\n",
       "1354       0        0\n",
       "2870       1        1\n",
       "45         1        1\n",
       "2542       0        0\n",
       "104        1        1\n",
       "748        0        0"
      ]
     },
     "execution_count": 36,
     "metadata": {},
     "output_type": "execute_result"
    }
   ],
   "source": [
    "Y_train.head(20)"
   ]
  },
  {
   "cell_type": "code",
   "execution_count": null,
   "id": "1c58189c",
   "metadata": {},
   "outputs": [],
   "source": []
  }
 ],
 "metadata": {
  "kernelspec": {
   "display_name": "Python 3 (ipykernel)",
   "language": "python",
   "name": "python3"
  },
  "language_info": {
   "codemirror_mode": {
    "name": "ipython",
    "version": 3
   },
   "file_extension": ".py",
   "mimetype": "text/x-python",
   "name": "python",
   "nbconvert_exporter": "python",
   "pygments_lexer": "ipython3",
   "version": "3.11.2"
  }
 },
 "nbformat": 4,
 "nbformat_minor": 5
}
